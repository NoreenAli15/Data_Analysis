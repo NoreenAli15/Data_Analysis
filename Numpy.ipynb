{
 "cells": [
  {
   "cell_type": "code",
   "execution_count": 1,
   "metadata": {},
   "outputs": [],
   "source": [
    "import numpy as np"
   ]
  },
  {
   "cell_type": "code",
   "execution_count": 17,
   "metadata": {},
   "outputs": [
    {
     "name": "stdout",
     "output_type": "stream",
     "text": [
      "[[ 1  2  3  4]\n",
      " [10 20 30 40]\n",
      " [ 5  6  7  8]]\n",
      "<class 'numpy.ndarray'>\n",
      "2\n"
     ]
    }
   ],
   "source": [
    "arr = np.array([[1,2,3,4],[10,20,30,40],[5,6,7,8]])\n",
    "print (arr)\n",
    "print (type(arr))\n",
    "print (arr.ndim) # return the dimention"
   ]
  },
  {
   "cell_type": "code",
   "execution_count": 27,
   "metadata": {},
   "outputs": [
    {
     "name": "stdout",
     "output_type": "stream",
     "text": [
      "[1 2 3 4]\n",
      "[ 6  8 10 12]\n",
      "4\n"
     ]
    }
   ],
   "source": [
    "#indexing\n",
    "print (arr[0]) \n",
    "print(arr[0]+arr[2])\n",
    "print (arr[0,3]) #access element by raw and column\n",
    "\n"
   ]
  },
  {
   "cell_type": "code",
   "execution_count": 57,
   "metadata": {},
   "outputs": [
    {
     "name": "stdout",
     "output_type": "stream",
     "text": [
      "[[10 20 30 40]\n",
      " [ 5  6  7  8]]\n",
      "------------------------------\n",
      "[[ 1  2  3  4]\n",
      " [10 20 30 40]\n",
      " [ 5  6  7  8]]\n",
      "------------------------------\n",
      "[[ 1  2  3  4]\n",
      " [10 20 30 40]]\n",
      "------------------------------\n",
      "[20 30]\n",
      "------------------------------\n",
      "[[ 2  3  4]\n",
      " [20 30 40]]\n",
      "                                         \n",
      "((((((((((1DAray))))))))))\n",
      "[1 3 5]\n",
      "------------------------------\n",
      "[1 4]\n"
     ]
    }
   ],
   "source": [
    "#sclicing\n",
    "print (arr[1:3]) \n",
    "print(\"------------------------------\")\n",
    "print (arr[0:])\n",
    "print(\"------------------------------\")\n",
    "print (arr[-3:-1]) #exclude last element\n",
    "print(\"------------------------------\")\n",
    "print(arr[1, 1:3]) #sclicing 2D array\n",
    "print(\"------------------------------\")\n",
    "\n",
    "print(arr[0:2, 1:4])\n",
    "\n",
    "print (\"                                         \")\n",
    "print (\"((((((((((1DAray))))))))))\")\n",
    "a=np.array([1,2,3,4,5,6])\n",
    "print (a[0:7:2]) #slicing by steps\n",
    "print(\"------------------------------\")\n",
    "print(a[::3]) #sclicing entire array by steps \n"
   ]
  },
  {
   "cell_type": "code",
   "execution_count": 58,
   "metadata": {},
   "outputs": [
    {
     "name": "stdout",
     "output_type": "stream",
     "text": [
      "int32\n"
     ]
    }
   ],
   "source": [
    "print(arr.dtype)#datatype of array"
   ]
  },
  {
   "cell_type": "code",
   "execution_count": 59,
   "metadata": {},
   "outputs": [
    {
     "name": "stdout",
     "output_type": "stream",
     "text": [
      "[1 2 3 4 5 6]\n",
      "[1 2 3 4 5 6]\n",
      "[1 2 3 4 5 6]\n",
      "[100   2   3   4   5   6]\n",
      "[1 2 3 4 5 6]\n",
      "[100   2   3   4   5   6]\n",
      "None\n",
      "[100   2   3   4   5   6]\n"
     ]
    }
   ],
   "source": [
    "#copy vs veiw\n",
    "x = a.copy()\n",
    "y=a.view()\n",
    "print (a)\n",
    "print (x)\n",
    "print (y)\n",
    "a[0]=100\n",
    "print (a)\n",
    "print (x) # The copy SHOULD NOT be affected by the changes made to the original array.\n",
    "print (y) # The view SHOULD be affected by the changes made to the original array.\n",
    "print(x.base) #copy returns none\n",
    "print(y.base)"
   ]
  },
  {
   "cell_type": "code",
   "execution_count": 60,
   "metadata": {},
   "outputs": [
    {
     "name": "stdout",
     "output_type": "stream",
     "text": [
      "shape of array : (3, 4)\n"
     ]
    }
   ],
   "source": [
    "#shape\n",
    "print('shape of array :', arr.shape)"
   ]
  },
  {
   "cell_type": "code",
   "execution_count": 68,
   "metadata": {},
   "outputs": [
    {
     "data": {
      "text/plain": [
       "array([ 1,  2,  3,  4, 10, 20, 30, 40,  5,  6,  7,  8])"
      ]
     },
     "execution_count": 68,
     "metadata": {},
     "output_type": "execute_result"
    }
   ],
   "source": [
    "#reshape\n",
    "newarr = a.reshape(3, 2) #reshape without missing data \n",
    "newarr\n",
    "newarr = arr.reshape(-1) #return the array into 1D (flatten)\n",
    "newarr"
   ]
  },
  {
   "cell_type": "code",
   "execution_count": 70,
   "metadata": {},
   "outputs": [
    {
     "name": "stdout",
     "output_type": "stream",
     "text": [
      "4\n",
      "5\n",
      "6\n",
      "7\n",
      "13\n",
      "23\n",
      "33\n",
      "43\n",
      "8\n",
      "9\n",
      "10\n",
      "11\n"
     ]
    }
   ],
   "source": [
    "#iterating on array\n",
    "for x in np.nditer(arr): #by using nditer function instead of making nested loops\n",
    "     print(x+3)"
   ]
  },
  {
   "cell_type": "code",
   "execution_count": 71,
   "metadata": {},
   "outputs": [
    {
     "name": "stdout",
     "output_type": "stream",
     "text": [
      "(0, 0) 1\n",
      "(0, 1) 2\n",
      "(0, 2) 3\n",
      "(0, 3) 4\n",
      "(1, 0) 10\n",
      "(1, 1) 20\n",
      "(1, 2) 30\n",
      "(1, 3) 40\n",
      "(2, 0) 5\n",
      "(2, 1) 6\n",
      "(2, 2) 7\n",
      "(2, 3) 8\n"
     ]
    }
   ],
   "source": [
    "#iterating on np array\n",
    "for idx, x in np.ndenumerate(arr):\n",
    "    print(idx, x)"
   ]
  },
  {
   "cell_type": "code",
   "execution_count": 97,
   "metadata": {},
   "outputs": [
    {
     "data": {
      "text/plain": [
       "array([[[ 1, 10],\n",
       "        [ 2, 11],\n",
       "        [ 3, 12],\n",
       "        [ 4, 13],\n",
       "        [ 5, 14]]])"
      ]
     },
     "execution_count": 97,
     "metadata": {},
     "output_type": "execute_result"
    }
   ],
   "source": [
    "#array join\n",
    "a1=np.array([1,2,3,4,5])\n",
    "a2=np.array([10,11,12,13,14])\n",
    "\n",
    "np.concatenate((a1, a2)) #1) by using concatenate\n",
    "np.stack ((a1,a2))  #2) by using stack\n",
    "np.hstack((a1, a2)) #3) by using horizontal stack (concat horizontally) \n",
    "np.vstack((a1, a2)) #4) by using vertical stack (concat vertically)\n",
    "np.dstack((a1, a2)) #5) by using height stack (concat along height)"
   ]
  },
  {
   "cell_type": "code",
   "execution_count": 112,
   "metadata": {},
   "outputs": [
    {
     "data": {
      "text/plain": [
       "[array([[1],\n",
       "        [4]]),\n",
       " array([[2],\n",
       "        [5]]),\n",
       " array([[3],\n",
       "        [6]])]"
      ]
     },
     "execution_count": 112,
     "metadata": {},
     "output_type": "execute_result"
    }
   ],
   "source": [
    "# array slite\n",
    "ary=np.array([1,2,3,4,5,6])\n",
    "np.array_split(ary,2)\n",
    "ary2=np.array([[1,2,3],[4,5,6]])\n",
    "np.array_split(ary2,2)\n",
    "np.hsplit(ary2, 3)\n"
   ]
  },
  {
   "cell_type": "code",
   "execution_count": 118,
   "metadata": {},
   "outputs": [
    {
     "data": {
      "text/plain": [
       "(array([1, 3, 5, 7, 9], dtype=int64),)"
      ]
     },
     "execution_count": 118,
     "metadata": {},
     "output_type": "execute_result"
    }
   ],
   "source": [
    "#search\n",
    "arr=np.array([1,2,3,4,5,6,7,8,9,10])\n",
    "arr1=np.where(arr%2==0) #print index\n",
    "arr1"
   ]
  },
  {
   "cell_type": "code",
   "execution_count": 120,
   "metadata": {},
   "outputs": [
    {
     "data": {
      "text/plain": [
       "array([ 0,  2,  5,  7,  9, 57])"
      ]
     },
     "execution_count": 120,
     "metadata": {},
     "output_type": "execute_result"
    }
   ],
   "source": [
    "#sort\n",
    "t=np.array([7,5,0,2,9,57])\n",
    "np.sort(t)"
   ]
  },
  {
   "cell_type": "code",
   "execution_count": 128,
   "metadata": {},
   "outputs": [
    {
     "name": "stdout",
     "output_type": "stream",
     "text": [
      "[False  True False  True False  True False  True False  True]\n",
      "[ 2  4  6  8 10]\n"
     ]
    }
   ],
   "source": [
    "#filter\n",
    "arr=np.array([1,2,3,4,5,6,7,8,9,10])\n",
    "filtered=arr%2==0\n",
    "newarr=arr[filtered]\n",
    "print (filtered)\n",
    "print (newarr)"
   ]
  },
  {
   "cell_type": "code",
   "execution_count": 175,
   "metadata": {},
   "outputs": [
    {
     "name": "stdout",
     "output_type": "stream",
     "text": [
      "[6 7 5 9 8 1 3 2 4]\n"
     ]
    },
    {
     "data": {
      "text/plain": [
       "array([ 4, 38,  4,  5, 46, 37, 96, 50, 87, 80])"
      ]
     },
     "execution_count": 175,
     "metadata": {},
     "output_type": "execute_result"
    }
   ],
   "source": [
    "#random\n",
    "from numpy import random\n",
    "x = random.rand() #rand return float bet 0,1\n",
    "x = random.randint(100, size=(5)) #The randint() method takes a size parameter where you can specify the shape of an array\n",
    "random.rand(5) #craete random array from 5 items bet 0,1\n",
    "\n",
    "#-----------------------------------------------------------------\n",
    "\n",
    "random.shuffle(arr) #The shuffle() method makes changes to the original array.\n",
    "arr\n",
    "print(random.permutation(arr)) #The permutation() method returns a re-arranged array (and leaves the original array un-changed).\n",
    "arr\n",
    "np.random.randint(1, 100, 10) #take lower and heighr range "
   ]
  },
  {
   "cell_type": "code",
   "execution_count": 176,
   "metadata": {},
   "outputs": [
    {
     "data": {
      "text/plain": [
       "array([1.        , 1.41421356, 3.        , 2.44948974, 1.73205081,\n",
       "       2.23606798, 2.        , 2.64575131, 2.82842712])"
      ]
     },
     "execution_count": 176,
     "metadata": {},
     "output_type": "execute_result"
    }
   ],
   "source": [
    "# arthemetic\n",
    "arr1= np.array([1,2,3,4,5])\n",
    "arr2= np.array([10,20,30,40,50])\n",
    "#newarr = np.add(arr1, arr2)\n",
    "newarr = np.subtract(arr1, arr2)\n",
    "newarr = np.multiply(arr1, arr2)\n",
    "newarr = np.divide(arr2, arr1)\n",
    "newarr = np.power(arr1, arr2)\n",
    "newarr = np.mod(arr2, arr1) # %\n",
    "newarr = np.remainder(arr1, arr2)\n",
    "newarr = np.divmod(arr1, arr2)\n",
    "newarr = np.absolute(arr)\n",
    "newarr= np.sqrt(arr)\n",
    "newarr"
   ]
  },
  {
   "cell_type": "code",
   "execution_count": 168,
   "metadata": {},
   "outputs": [
    {
     "data": {
      "text/plain": [
       "array([-3.,  4.])"
      ]
     },
     "execution_count": 168,
     "metadata": {},
     "output_type": "execute_result"
    }
   ],
   "source": [
    "# rounding\n",
    "np.trunc([-3.1666, 3.6667])#remove float part\n",
    "np.fix([-3.1666, 3.6667])# remove float part\n",
    "np.around(3.1666, 2) #round up by decimal place\n",
    "np.floor([-3.1666, 3.6667]) #round down\n",
    "np.ceil([-3.1666, 3.6667]) #round up"
   ]
  },
  {
   "cell_type": "code",
   "execution_count": 173,
   "metadata": {},
   "outputs": [
    {
     "name": "stdout",
     "output_type": "stream",
     "text": [
      "[0.         0.30103    0.47712125 0.60205999 0.69897    0.77815125\n",
      " 0.84509804 0.90308999 0.95424251]\n",
      "[0.         0.69314718 1.09861229 1.38629436 1.60943791 1.79175947\n",
      " 1.94591015 2.07944154 2.19722458]\n"
     ]
    }
   ],
   "source": [
    "#log\n",
    "print(np.log10(arr)) #log of base 10\n",
    "print(np.log(arr)) #base e\n"
   ]
  },
  {
   "cell_type": "code",
   "execution_count": null,
   "metadata": {},
   "outputs": [],
   "source": []
  }
 ],
 "metadata": {
  "kernelspec": {
   "display_name": "Python 3",
   "language": "python",
   "name": "python3"
  },
  "language_info": {
   "codemirror_mode": {
    "name": "ipython",
    "version": 3
   },
   "file_extension": ".py",
   "mimetype": "text/x-python",
   "name": "python",
   "nbconvert_exporter": "python",
   "pygments_lexer": "ipython3",
   "version": "3.8.5"
  }
 },
 "nbformat": 4,
 "nbformat_minor": 4
}
